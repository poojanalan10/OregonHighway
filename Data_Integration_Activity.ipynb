{
  "nbformat": 4,
  "nbformat_minor": 0,
  "metadata": {
    "colab": {
      "name": "Data Integration Activity.ipynb",
      "provenance": [],
      "collapsed_sections": [],
      "authorship_tag": "ABX9TyPeKZ3jLY8X9KnmgF6CvUB+",
      "include_colab_link": true
    },
    "kernelspec": {
      "name": "python3",
      "display_name": "Python 3"
    }
  },
  "cells": [
    {
      "cell_type": "markdown",
      "metadata": {
        "id": "view-in-github",
        "colab_type": "text"
      },
      "source": [
        "<a href=\"https://colab.research.google.com/github/poojanalan10/OregonHighway/blob/master/Data_Integration_Activity.ipynb\" target=\"_parent\"><img src=\"https://colab.research.google.com/assets/colab-badge.svg\" alt=\"Open In Colab\"/></a>"
      ]
    },
    {
      "cell_type": "code",
      "metadata": {
        "id": "E7KOY26CNnwd"
      },
      "source": [
        "import pandas as pd\r\n",
        "import datetime\r\n",
        "\r\n",
        "ACSdata = pd.read_csv('/content/acs2017_census_tract_data.csv.zip')\r\n",
        "CovidData = pd.read_csv('/content/COVID_county_data 2.csv.zip')\r\n",
        "\r\n",
        "# ACSdata.head(10)\r\n",
        "# CovidData.head(10)"
      ],
      "execution_count": 246,
      "outputs": []
    },
    {
      "cell_type": "markdown",
      "metadata": {
        "id": "5dYUVQF0eJ6X"
      },
      "source": [
        "A. Aggregate Census Data to County Level\r\n",
        "Your integration will use two different dimensions: location (as indicated by state and county) and time. You should greatly simplify your processing and reduce your time by pre-processing your data along each of these dimensions.\r\n",
        "\r\n",
        "The ACS data is separated into “Census Tracts” which are regions within counties that correspond to groups of approximately 4000 people. The Census Bureau defines these to help organize the actual job of collecting census data, but this grouping can make your Data Engineering job more more challenging. This level of detail is not needed for your county-level analysis, and you can greatly decrease your efforts by aggregating per-tract data to the county level.  \r\n",
        "\r\n",
        "Create a python program that produces a one-row-per-county version of the ACS data set. To do this you will need to think about how to properly aggregate Census Tract-level data into County-level summaries. \r\n",
        "\r\n",
        "In this step you can also eliminate unneeded columns from the ACS data. \r\n",
        "\r\n",
        "Question: Show your aggregated county-level data rows for the following counties: Loudon County Virginia, Washington County Oregon, Harlan County Kentucky, Malheur County Oregon\r\n",
        "\r\n"
      ]
    },
    {
      "cell_type": "code",
      "metadata": {
        "colab": {
          "base_uri": "https://localhost:8080/"
        },
        "id": "NzeeRiNVQJVz",
        "outputId": "da9acbed-534b-4dd4-ddc5-58451473e484"
      },
      "source": [
        "#integratedData = pd.concat([ACSdata,CovidData], axis = 1)\r\n",
        "\r\n",
        "#storing the county and it's corresponding state data and concatenating all the county,state pair\r\n",
        "countyLoudounData = ACSdata[(ACSdata['County'] == 'Loudoun County') & (ACSdata['State'] == 'Virginia')]\r\n",
        "countyHarlanData = ACSdata[(ACSdata['County'] == 'Washington County') & (ACSdata['State'] == 'Oregon')]\r\n",
        "countyWashingtonData = ACSdata[(ACSdata['County'] == 'Harlan County') & (ACSdata['State'] == 'Kentucky')]\r\n",
        "countyMalheurData = ACSdata[(ACSdata['County'] == 'Malheur County') & (ACSdata['State'] == 'Oregon')]\r\n",
        "countyData = pd.concat([countyLoudounData,countyHarlanData,countyWashingtonData,countyMalheurData])\r\n",
        "#countyData = countyData.groupby([\"County\",\"State\"]).sum()\r\n",
        "countyData['County'] = countyData['County'].map(lambda x: x.rstrip('County'))\r\n",
        "countyData['Poverty'] = (countyData['Poverty']/100) * countyData['TotalPop']\r\n",
        "countyData['IncomePerCap'] = (countyData['IncomePerCap']) * countyData['TotalPop']\r\n",
        "countyData = countyData[['County','State','TotalPop','Poverty','IncomePerCap']]\r\n",
        "\r\n",
        "#print(countyData)\r\n",
        "#countyData = countyData.groupby([\"County\",\"State\"]).sum()\r\n",
        "#countyData = countyData.groupby([\"County\",\"State\"], as_index=False).agg(\"sum\")\r\n",
        "countyData = countyData.dropna()\r\n",
        "countyData = countyData.groupby([\"County\",\"State\"], as_index=False).agg(\r\n",
        "     Population  = pd.NamedAgg(column=\"TotalPop\", aggfunc = \"sum\"),\r\n",
        "     Poverty  =  pd.NamedAgg(column=\"Poverty\", aggfunc = \"sum\"),\r\n",
        "     PerCapitaIncome =  pd.NamedAgg(column=\"IncomePerCap\", aggfunc = \"sum\")\r\n",
        "      )\r\n",
        "countyData[\"Poverty\"] = (countyData['Poverty']*100)/countyData['Population']\r\n",
        "countyData[\"PerCapitaIncome\"] = (countyData['PerCapitaIncome'])/countyData['Population']\r\n",
        "print(countyData)\r\n"
      ],
      "execution_count": 247,
      "outputs": [
        {
          "output_type": "stream",
          "text": [
            "        County     State  Population    Poverty  PerCapitaIncome\n",
            "0      Harlan   Kentucky       27548  35.669482     15456.971032\n",
            "1     Loudoun   Virginia      374558   3.689598     50455.645745\n",
            "2     Malheur     Oregon       30421  24.298225     17567.504323\n",
            "3  Washington     Oregon      572071  10.321202     35369.047499\n"
          ],
          "name": "stdout"
        }
      ]
    },
    {
      "cell_type": "markdown",
      "metadata": {
        "id": "CDY1xemufEz5"
      },
      "source": [
        ""
      ]
    },
    {
      "cell_type": "markdown",
      "metadata": {
        "id": "8HgZcqiCe9Op"
      },
      "source": [
        "B. Simplify the COVID Data\r\n",
        "You can simplify the COVID data along the time dimension. The COVID data set contains day-level resolution data from (approximately) March of 2020 through February of 2021. However, you will only need four data points per county: total cases, total deaths, cases reported during December of 2020 and deaths reported during December 2020. \r\n",
        "\r\n",
        "Create a python program that reduces the COVID data to one line per county. \r\n",
        "\r\n",
        "Question: Show your simplified COVID data for the counties listed above. \r\n"
      ]
    },
    {
      "cell_type": "code",
      "metadata": {
        "id": "Ie5VnM5Zb3Em",
        "colab": {
          "base_uri": "https://localhost:8080/"
        },
        "outputId": "d0b72773-39bd-44e5-eb5c-c564dd2cfd12"
      },
      "source": [
        "#December2020\r\n",
        "start_date = \"01122020\"\r\n",
        "end_date = \"31122020\"\r\n",
        "format_str = '%d%m%Y' # The format The date - 29 Dec 2017 is 29122017\r\n",
        "datetime_obj_start_date = datetime.datetime.strptime(start_date, format_str)\r\n",
        "datetime_obj_end_date = datetime.datetime.strptime(end_date, format_str)\r\n",
        "# print(datetime_obj_start_date.date())\r\n",
        "# print(datetime_obj_end_date.date())\r\n",
        "dateDecemberData = []\r\n",
        "format_str_frame = '%y-%m-%d'\r\n",
        "#filtering data to accomodate the data for the month of December, 2020\r\n",
        "after_start_date = CovidData[\"date\"] >= \"2020-12-01\"\r\n",
        "before_end_date = CovidData[\"date\"] <= \"2020-12-31\"\r\n",
        "between_two_dates = after_start_date & before_end_date\r\n",
        "covidDataDecember = CovidData.loc[between_two_dates]\r\n",
        "\r\n",
        "#dropping date to aggregate data accroding to county \r\n",
        "covidDataDecember = covidDataDecember.drop([\"date\"],axis = 1)\r\n",
        "\r\n",
        "#filtering by the counties mentioned above for the month of December\r\n",
        "countyLoudounDecemberData = covidDataDecember[(covidDataDecember['county'] == 'Loudoun') & (covidDataDecember['state'] == 'Virginia')]\r\n",
        "countyHarlanDecemberData = covidDataDecember[(covidDataDecember['county'] == 'Washington') & (covidDataDecember['state'] == 'Oregon')]\r\n",
        "countyWashingtonDecemberData = covidDataDecember[(covidDataDecember['county'] == 'Harlan') & (covidDataDecember['state'] == 'Kentucky')]\r\n",
        "countyMalheurDecemberData = covidDataDecember[(covidDataDecember['county'] == 'Malheur') & (covidDataDecember['state'] == 'Oregon')]\r\n",
        "countyDatacovidDataDecember = pd.concat([countyLoudounDecemberData,countyHarlanDecemberData,countyWashingtonDecemberData,countyMalheurDecemberData])\r\n",
        "\r\n",
        "#filtering by the counties mentioned above for till date\r\n",
        "countyLoudounData = CovidData[(CovidData['county'] == 'Loudoun') & (CovidData['state'] == 'Virginia')]\r\n",
        "countyHarlanData = CovidData[(CovidData['county'] == 'Washington') & (CovidData['state'] == 'Oregon')]\r\n",
        "countyWashingtonData = CovidData[(CovidData['county'] == 'Harlan') & (CovidData['state'] == 'Kentucky')]\r\n",
        "countyMalheurData = CovidData[(CovidData['county'] == 'Malheur') & (CovidData['state'] == 'Oregon')]\r\n",
        "countyDatacovidDatatillDate = pd.concat([countyLoudounData,countyHarlanData,countyWashingtonData,countyMalheurData])\r\n",
        "\r\n",
        "#grouping by county and state and calculating the total number of covid cases and deaths recorded till date\r\n",
        "covidReporttoDate = countyDatacovidDatatillDate.groupby([\"county\",\"state\"], as_index=False).agg(\r\n",
        "    TotalCases   = pd.NamedAgg(column=\"cases\",aggfunc = \"max\"),\r\n",
        "    TotalDeaths  = pd.NamedAgg(column=\"deaths\",aggfunc = \"max\")\r\n",
        "    )\r\n",
        "\r\n",
        "#grouping by county and state and getting the sum of deaths and no of covid cases in the month of December 2020\r\n",
        "#per county\r\n",
        "#using @as_index=False allows the columns to be retained as an index\r\n",
        "covidReport = countyDatacovidDataDecember.groupby([\"county\",\"state\"], as_index=False).agg(\r\n",
        "    Dec2020Cases = pd.NamedAgg(column=\"cases\", aggfunc = \"max\"),\r\n",
        "    Dec2020Deaths = pd.NamedAgg(column=\"deaths\",aggfunc = \"max\")\r\n",
        "    )\r\n",
        "#A different approach to group by for a single column\r\n",
        "# covidReport = covidDataDecember.groupby([\"county\",\"state\"])[\"cases\"].sum().to_frame(\"cases\").reset_index()\r\n",
        "covidReport[\"TotalDeaths\"] = covidReporttoDate[\"TotalDeaths\"]\r\n",
        "covidReport[\"TotalCases\"] = covidReporttoDate[\"TotalCases\"]\r\n",
        "covidReport = covidReport[['county','state','TotalCases','Dec2020Cases','TotalDeaths','Dec2020Deaths']]\r\n",
        "print(covidReport)"
      ],
      "execution_count": 248,
      "outputs": [
        {
          "output_type": "stream",
          "text": [
            "       county     state  TotalCases  Dec2020Cases  TotalDeaths  Dec2020Deaths\n",
            "0      Harlan  Kentucky        2352          1538         68.0           18.0\n",
            "1     Loudoun  Virginia       22557         14169        199.0          159.0\n",
            "2     Malheur    Oregon        3331          2914         58.0           50.0\n",
            "3  Washington    Oregon       20866         16070        209.0          142.0\n"
          ],
          "name": "stdout"
        }
      ]
    },
    {
      "cell_type": "markdown",
      "metadata": {
        "id": "Dacdwo7Tffev"
      },
      "source": [
        "C. Integrate COVID Data with ACS Data\r\n",
        "Create a single pandas DataFrame containing one row per county and using the columns described above. You are free to add additional columns if needed. For example, you might want to normalize all of the COVID data by the population of each county so that you have a consistent “number of cases/deaths per 100000 residents” value for each county.\r\n",
        "\r\n",
        "Question: List your integrated data for all counties in the State of Oregon.\r\n",
        "\r\n"
      ]
    },
    {
      "cell_type": "code",
      "metadata": {
        "colab": {
          "base_uri": "https://localhost:8080/"
        },
        "id": "egFxAh6jfi6C",
        "outputId": "45d3e46a-7c67-4da5-b757-b4a7ed017f1e"
      },
      "source": [
        "covidReportfiltered = covidReport[['TotalCases','Dec2020Cases','TotalDeaths','Dec2020Deaths']]\r\n",
        "integratedData = pd.concat([countyData,covidReportfiltered], axis=1)\r\n",
        "integratedData['cases per 100,000 res'] = (integratedData['TotalCases']*100000)/integratedData['Population']\r\n",
        "integratedData['death per 100,000 res'] = (integratedData['TotalDeaths']*100000)/integratedData['Population']\r\n",
        "\r\n",
        "print(integratedData)"
      ],
      "execution_count": 249,
      "outputs": [
        {
          "output_type": "stream",
          "text": [
            "        County     State  Population    Poverty  PerCapitaIncome  TotalCases  \\\n",
            "0      Harlan   Kentucky       27548  35.669482     15456.971032        2352   \n",
            "1     Loudoun   Virginia      374558   3.689598     50455.645745       22557   \n",
            "2     Malheur     Oregon       30421  24.298225     17567.504323        3331   \n",
            "3  Washington     Oregon      572071  10.321202     35369.047499       20866   \n",
            "\n",
            "   Dec2020Cases  TotalDeaths  Dec2020Deaths  cases per 100,000 res  \\\n",
            "0          1538         68.0           18.0            8537.824887   \n",
            "1         14169        199.0          159.0            6022.298282   \n",
            "2          2914         58.0           50.0           10949.672923   \n",
            "3         16070        209.0          142.0            3647.449355   \n",
            "\n",
            "   death per 100,000 res  \n",
            "0             246.841876  \n",
            "1              53.129288  \n",
            "2             190.657769  \n",
            "3              36.533927  \n"
          ],
          "name": "stdout"
        }
      ]
    },
    {
      "cell_type": "markdown",
      "metadata": {
        "id": "YlhDREzSKc0N"
      },
      "source": [
        ""
      ]
    },
    {
      "cell_type": "markdown",
      "metadata": {
        "id": "Dk71KyaYNnlx"
      },
      "source": [
        ""
      ]
    },
    {
      "cell_type": "markdown",
      "metadata": {
        "id": "0JNGxeC7Nosn"
      },
      "source": [
        "D. Analysis\r\n",
        "For each of the following, determine the strength of the correlation between each pair of variables. Compute the correlation strength by calculating the Pearson correlation coefficient R for pairs of columns in your DataFrame. For example, if you have a DataFrame df with each row representing a distinct county, and columns named ‘TotalCases’ and ‘Poverty’, then you can compute R like this:\r\n",
        "\r\n",
        "R = df[‘TotalCases’].corr(df[‘Poverty’])\r\n",
        "\r\n",
        "For any R that is > 0.5 or < -0.5 also display a scatter plot (see pandas scatterplot and seaborn documentation for information about how to display scatter plots from DataFrame data).\r\n",
        "\r\n",
        "The COVID numbers should be normalized to population (# of cases per 100,000 residents) so that different sized counties are comparable. So for example, “COVID total cases” below really means “((COVID total cases in county * 100000) / population of county)”."
      ]
    },
    {
      "cell_type": "code",
      "metadata": {
        "colab": {
          "base_uri": "https://localhost:8080/",
          "height": 219
        },
        "id": "9l7xKsK77ZgY",
        "outputId": "223a9638-ed6a-4b10-e06a-2186e24daa90"
      },
      "source": [
        "\r\n",
        "#All counties across USA\r\n",
        "#ACSdata['County'] = ACSdata['County'].map(lambda x: x.rstrip(' County'))\r\n",
        "ACSdata['Poverty'] = (ACSdata['Poverty']/100) * ACSdata['TotalPop']\r\n",
        "ACSdata['IncomePerCap'] = (ACSdata['IncomePerCap']) * ACSdata['TotalPop']\r\n",
        "ACSdata = ACSdata[['County','State','TotalPop','Poverty','IncomePerCap']]\r\n",
        "ACSdata = ACSdata.dropna()\r\n",
        "ACSdata = ACSdata.groupby([\"County\",\"State\"], as_index=False).agg(\r\n",
        "     Population  = pd.NamedAgg(column=\"TotalPop\", aggfunc = \"sum\"),\r\n",
        "     Poverty  =  pd.NamedAgg(column=\"Poverty\", aggfunc = \"sum\"),\r\n",
        "     PerCapitaIncome =  pd.NamedAgg(column=\"IncomePerCap\", aggfunc = \"sum\")\r\n",
        "      )\r\n",
        "ACSdata[\"Poverty\"] = (ACSdata['Poverty']*100)/ACSdata['Population']\r\n",
        "ACSdata[\"PerCapitaIncome\"] = (ACSdata['PerCapitaIncome'])/ACSdata['Population']\r\n",
        "ACSdata = ACSdata.rename(columns={'State':'state','County':'county'})\r\n",
        "print(len(ACSdata))\r\n",
        "ACSdata.head(5)"
      ],
      "execution_count": 250,
      "outputs": [
        {
          "output_type": "stream",
          "text": [
            "3220\n"
          ],
          "name": "stdout"
        },
        {
          "output_type": "execute_result",
          "data": {
            "text/html": [
              "<div>\n",
              "<style scoped>\n",
              "    .dataframe tbody tr th:only-of-type {\n",
              "        vertical-align: middle;\n",
              "    }\n",
              "\n",
              "    .dataframe tbody tr th {\n",
              "        vertical-align: top;\n",
              "    }\n",
              "\n",
              "    .dataframe thead th {\n",
              "        text-align: right;\n",
              "    }\n",
              "</style>\n",
              "<table border=\"1\" class=\"dataframe\">\n",
              "  <thead>\n",
              "    <tr style=\"text-align: right;\">\n",
              "      <th></th>\n",
              "      <th>county</th>\n",
              "      <th>state</th>\n",
              "      <th>Population</th>\n",
              "      <th>Poverty</th>\n",
              "      <th>PerCapitaIncome</th>\n",
              "    </tr>\n",
              "  </thead>\n",
              "  <tbody>\n",
              "    <tr>\n",
              "      <th>0</th>\n",
              "      <td>Abbeville County</td>\n",
              "      <td>South Carolina</td>\n",
              "      <td>24788</td>\n",
              "      <td>22.663628</td>\n",
              "      <td>19234.247176</td>\n",
              "    </tr>\n",
              "    <tr>\n",
              "      <th>1</th>\n",
              "      <td>Acadia Parish</td>\n",
              "      <td>Louisiana</td>\n",
              "      <td>62607</td>\n",
              "      <td>21.630767</td>\n",
              "      <td>21590.908876</td>\n",
              "    </tr>\n",
              "    <tr>\n",
              "      <th>2</th>\n",
              "      <td>Accomack County</td>\n",
              "      <td>Virginia</td>\n",
              "      <td>32840</td>\n",
              "      <td>19.905271</td>\n",
              "      <td>24265.653959</td>\n",
              "    </tr>\n",
              "    <tr>\n",
              "      <th>3</th>\n",
              "      <td>Ada County</td>\n",
              "      <td>Idaho</td>\n",
              "      <td>435117</td>\n",
              "      <td>11.909603</td>\n",
              "      <td>31642.314649</td>\n",
              "    </tr>\n",
              "    <tr>\n",
              "      <th>4</th>\n",
              "      <td>Adair County</td>\n",
              "      <td>Iowa</td>\n",
              "      <td>7192</td>\n",
              "      <td>9.479060</td>\n",
              "      <td>28860.857620</td>\n",
              "    </tr>\n",
              "  </tbody>\n",
              "</table>\n",
              "</div>"
            ],
            "text/plain": [
              "             county           state  Population    Poverty  PerCapitaIncome\n",
              "0  Abbeville County  South Carolina       24788  22.663628     19234.247176\n",
              "1     Acadia Parish       Louisiana       62607  21.630767     21590.908876\n",
              "2   Accomack County        Virginia       32840  19.905271     24265.653959\n",
              "3        Ada County           Idaho      435117  11.909603     31642.314649\n",
              "4      Adair County            Iowa        7192   9.479060     28860.857620"
            ]
          },
          "metadata": {
            "tags": []
          },
          "execution_count": 250
        }
      ]
    },
    {
      "cell_type": "code",
      "metadata": {
        "colab": {
          "base_uri": "https://localhost:8080/",
          "height": 237
        },
        "id": "bi6kVdxG8eqY",
        "outputId": "967835b5-8788-4809-c325-b04d109c4715"
      },
      "source": [
        "#All counties across USA COVID Data\r\n",
        "\r\n",
        "#grouping by county and state and calculating the total number of covid cases and deaths recorded till date\r\n",
        "covidReporttoDateAllCounties = CovidData.groupby([\"county\",\"state\"], as_index=False).agg(\r\n",
        "    TotalCases   = pd.NamedAgg(column=\"cases\",aggfunc = \"max\"),\r\n",
        "    TotalDeaths  = pd.NamedAgg(column=\"deaths\",aggfunc = \"max\")\r\n",
        "    )\r\n",
        "#grouping by county and state and getting the sum of deaths and no of covid cases in the month of December 2020\r\n",
        "#per county\r\n",
        "#using @as_index=False allows the columns to be retained as an index\r\n",
        "covidReportAllCounties = covidDataDecember.groupby([\"county\",\"state\"], as_index=False).agg(\r\n",
        "    Dec2020Cases = pd.NamedAgg(column=\"cases\", aggfunc = \"max\"),\r\n",
        "    Dec2020Deaths = pd.NamedAgg(column=\"deaths\",aggfunc = \"max\")\r\n",
        "    )\r\n",
        "covidReportAllCounties[\"TotalDeaths\"] = covidReporttoDateAllCounties[\"TotalDeaths\"]\r\n",
        "covidReportAllCounties[\"TotalCases\"] = covidReporttoDateAllCounties[\"TotalCases\"]\r\n",
        "covidReportAllCounties['county'] = covidReportAllCounties['county'].astype(str) + ' County'\r\n",
        "\r\n",
        "\r\n",
        "covidReportAllCounties = covidReportAllCounties[['county','state','TotalCases','Dec2020Cases','TotalDeaths','Dec2020Deaths']]\r\n",
        "#covidReportAllCounties = covidReportAllCounties.drop(columns=['county','state'])\r\n",
        "print(\"Length of covidReportAllCounties\")\r\n",
        "print(len(covidReportAllCounties))\r\n",
        "\r\n",
        "covidReportAllCounties.head(5)"
      ],
      "execution_count": 251,
      "outputs": [
        {
          "output_type": "stream",
          "text": [
            "Length of covidReportAllCounties\n",
            "3247\n"
          ],
          "name": "stdout"
        },
        {
          "output_type": "execute_result",
          "data": {
            "text/html": [
              "<div>\n",
              "<style scoped>\n",
              "    .dataframe tbody tr th:only-of-type {\n",
              "        vertical-align: middle;\n",
              "    }\n",
              "\n",
              "    .dataframe tbody tr th {\n",
              "        vertical-align: top;\n",
              "    }\n",
              "\n",
              "    .dataframe thead th {\n",
              "        text-align: right;\n",
              "    }\n",
              "</style>\n",
              "<table border=\"1\" class=\"dataframe\">\n",
              "  <thead>\n",
              "    <tr style=\"text-align: right;\">\n",
              "      <th></th>\n",
              "      <th>county</th>\n",
              "      <th>state</th>\n",
              "      <th>TotalCases</th>\n",
              "      <th>Dec2020Cases</th>\n",
              "      <th>TotalDeaths</th>\n",
              "      <th>Dec2020Deaths</th>\n",
              "    </tr>\n",
              "  </thead>\n",
              "  <tbody>\n",
              "    <tr>\n",
              "      <th>0</th>\n",
              "      <td>Abbeville County</td>\n",
              "      <td>South Carolina</td>\n",
              "      <td>2174</td>\n",
              "      <td>1275</td>\n",
              "      <td>34.0</td>\n",
              "      <td>25.0</td>\n",
              "    </tr>\n",
              "    <tr>\n",
              "      <th>1</th>\n",
              "      <td>Acadia County</td>\n",
              "      <td>Louisiana</td>\n",
              "      <td>5999</td>\n",
              "      <td>5082</td>\n",
              "      <td>181.0</td>\n",
              "      <td>153.0</td>\n",
              "    </tr>\n",
              "    <tr>\n",
              "      <th>2</th>\n",
              "      <td>Accomack County</td>\n",
              "      <td>Virginia</td>\n",
              "      <td>2552</td>\n",
              "      <td>1698</td>\n",
              "      <td>35.0</td>\n",
              "      <td>27.0</td>\n",
              "    </tr>\n",
              "    <tr>\n",
              "      <th>3</th>\n",
              "      <td>Ada County</td>\n",
              "      <td>Idaho</td>\n",
              "      <td>46190</td>\n",
              "      <td>38417</td>\n",
              "      <td>428.0</td>\n",
              "      <td>355.0</td>\n",
              "    </tr>\n",
              "    <tr>\n",
              "      <th>4</th>\n",
              "      <td>Adair County</td>\n",
              "      <td>Iowa</td>\n",
              "      <td>790</td>\n",
              "      <td>606</td>\n",
              "      <td>26.0</td>\n",
              "      <td>17.0</td>\n",
              "    </tr>\n",
              "  </tbody>\n",
              "</table>\n",
              "</div>"
            ],
            "text/plain": [
              "             county           state  TotalCases  Dec2020Cases  TotalDeaths  \\\n",
              "0  Abbeville County  South Carolina        2174          1275         34.0   \n",
              "1     Acadia County       Louisiana        5999          5082        181.0   \n",
              "2   Accomack County        Virginia        2552          1698         35.0   \n",
              "3        Ada County           Idaho       46190         38417        428.0   \n",
              "4      Adair County            Iowa         790           606         26.0   \n",
              "\n",
              "   Dec2020Deaths  \n",
              "0           25.0  \n",
              "1          153.0  \n",
              "2           27.0  \n",
              "3          355.0  \n",
              "4           17.0  "
            ]
          },
          "metadata": {
            "tags": []
          },
          "execution_count": 251
        }
      ]
    },
    {
      "cell_type": "code",
      "metadata": {
        "colab": {
          "base_uri": "https://localhost:8080/",
          "height": 237
        },
        "id": "VNK2sUODDr4f",
        "outputId": "51260632-be9e-42d7-87a8-0846e52461c1"
      },
      "source": [
        "#Integrated Data for USA\r\n",
        "pd.options.display.max_columns = None\r\n",
        "pd.options.display.max_rows = None\r\n",
        "\r\n",
        "integrated_df=covidReportAllCounties.merge(ACSdata, on=['county','state'], how='inner')\r\n",
        "integrated_df['TotalCases'] = (integrated_df['TotalCases']*100000)/integrated_df['Population']\r\n",
        "integrated_df['TotalDeaths'] = (integrated_df['TotalDeaths']*100000)/integrated_df['Population']\r\n",
        "integrated_df['Dec2020Cases'] = (integrated_df['Dec2020Cases']*100000)/integrated_df['Population']\r\n",
        "integrated_df['Dec2020Deaths'] = (integrated_df['Dec2020Deaths']*100000)/integrated_df['Population']\r\n",
        "integrated_df.head(24)\r\n",
        "print(\"Length of integrated_df\")\r\n",
        "print(len(integrated_df))\r\n",
        "# integrated_df.to_csv('data.csv',index=False)\r\n",
        "# from google.colab import files\r\n",
        "# files.download(\"data.csv\")\r\n",
        "\r\n",
        "integrated_df.head()"
      ],
      "execution_count": 264,
      "outputs": [
        {
          "output_type": "stream",
          "text": [
            "Length of integrated_df\n",
            "3002\n"
          ],
          "name": "stdout"
        },
        {
          "output_type": "display_data",
          "data": {
            "application/javascript": [
              "\n",
              "    async function download(id, filename, size) {\n",
              "      if (!google.colab.kernel.accessAllowed) {\n",
              "        return;\n",
              "      }\n",
              "      const div = document.createElement('div');\n",
              "      const label = document.createElement('label');\n",
              "      label.textContent = `Downloading \"${filename}\": `;\n",
              "      div.appendChild(label);\n",
              "      const progress = document.createElement('progress');\n",
              "      progress.max = size;\n",
              "      div.appendChild(progress);\n",
              "      document.body.appendChild(div);\n",
              "\n",
              "      const buffers = [];\n",
              "      let downloaded = 0;\n",
              "\n",
              "      const channel = await google.colab.kernel.comms.open(id);\n",
              "      // Send a message to notify the kernel that we're ready.\n",
              "      channel.send({})\n",
              "\n",
              "      for await (const message of channel.messages) {\n",
              "        // Send a message to notify the kernel that we're ready.\n",
              "        channel.send({})\n",
              "        if (message.buffers) {\n",
              "          for (const buffer of message.buffers) {\n",
              "            buffers.push(buffer);\n",
              "            downloaded += buffer.byteLength;\n",
              "            progress.value = downloaded;\n",
              "          }\n",
              "        }\n",
              "      }\n",
              "      const blob = new Blob(buffers, {type: 'application/binary'});\n",
              "      const a = document.createElement('a');\n",
              "      a.href = window.URL.createObjectURL(blob);\n",
              "      a.download = filename;\n",
              "      div.appendChild(a);\n",
              "      a.click();\n",
              "      div.remove();\n",
              "    }\n",
              "  "
            ],
            "text/plain": [
              "<IPython.core.display.Javascript object>"
            ]
          },
          "metadata": {
            "tags": []
          }
        },
        {
          "output_type": "display_data",
          "data": {
            "application/javascript": [
              "download(\"download_0738cd93-fe7d-49fb-a5ff-a7be616284be\", \"data.csv\", 414394)"
            ],
            "text/plain": [
              "<IPython.core.display.Javascript object>"
            ]
          },
          "metadata": {
            "tags": []
          }
        },
        {
          "output_type": "execute_result",
          "data": {
            "text/html": [
              "<div>\n",
              "<style scoped>\n",
              "    .dataframe tbody tr th:only-of-type {\n",
              "        vertical-align: middle;\n",
              "    }\n",
              "\n",
              "    .dataframe tbody tr th {\n",
              "        vertical-align: top;\n",
              "    }\n",
              "\n",
              "    .dataframe thead th {\n",
              "        text-align: right;\n",
              "    }\n",
              "</style>\n",
              "<table border=\"1\" class=\"dataframe\">\n",
              "  <thead>\n",
              "    <tr style=\"text-align: right;\">\n",
              "      <th></th>\n",
              "      <th>county</th>\n",
              "      <th>state</th>\n",
              "      <th>TotalCases</th>\n",
              "      <th>Dec2020Cases</th>\n",
              "      <th>TotalDeaths</th>\n",
              "      <th>Dec2020Deaths</th>\n",
              "      <th>Population</th>\n",
              "      <th>Poverty</th>\n",
              "      <th>PerCapitaIncome</th>\n",
              "    </tr>\n",
              "  </thead>\n",
              "  <tbody>\n",
              "    <tr>\n",
              "      <th>0</th>\n",
              "      <td>Abbeville County</td>\n",
              "      <td>South Carolina</td>\n",
              "      <td>8770.372761</td>\n",
              "      <td>5143.617880</td>\n",
              "      <td>137.163143</td>\n",
              "      <td>100.855253</td>\n",
              "      <td>24788</td>\n",
              "      <td>22.663628</td>\n",
              "      <td>19234.247176</td>\n",
              "    </tr>\n",
              "    <tr>\n",
              "      <th>1</th>\n",
              "      <td>Accomack County</td>\n",
              "      <td>Virginia</td>\n",
              "      <td>7771.010962</td>\n",
              "      <td>5170.523752</td>\n",
              "      <td>106.577345</td>\n",
              "      <td>82.216809</td>\n",
              "      <td>32840</td>\n",
              "      <td>19.905271</td>\n",
              "      <td>24265.653959</td>\n",
              "    </tr>\n",
              "    <tr>\n",
              "      <th>2</th>\n",
              "      <td>Ada County</td>\n",
              "      <td>Idaho</td>\n",
              "      <td>10615.535592</td>\n",
              "      <td>8829.119524</td>\n",
              "      <td>98.364348</td>\n",
              "      <td>81.587251</td>\n",
              "      <td>435117</td>\n",
              "      <td>11.909603</td>\n",
              "      <td>31642.314649</td>\n",
              "    </tr>\n",
              "    <tr>\n",
              "      <th>3</th>\n",
              "      <td>Adair County</td>\n",
              "      <td>Iowa</td>\n",
              "      <td>10984.427141</td>\n",
              "      <td>8426.028921</td>\n",
              "      <td>361.512792</td>\n",
              "      <td>236.373749</td>\n",
              "      <td>7192</td>\n",
              "      <td>9.479060</td>\n",
              "      <td>28860.857620</td>\n",
              "    </tr>\n",
              "    <tr>\n",
              "      <th>4</th>\n",
              "      <td>Adair County</td>\n",
              "      <td>Kentucky</td>\n",
              "      <td>8526.730211</td>\n",
              "      <td>6703.273933</td>\n",
              "      <td>253.833402</td>\n",
              "      <td>233.112308</td>\n",
              "      <td>19304</td>\n",
              "      <td>21.451083</td>\n",
              "      <td>18408.087857</td>\n",
              "    </tr>\n",
              "  </tbody>\n",
              "</table>\n",
              "</div>"
            ],
            "text/plain": [
              "             county           state    TotalCases  Dec2020Cases  TotalDeaths  \\\n",
              "0  Abbeville County  South Carolina   8770.372761   5143.617880   137.163143   \n",
              "1   Accomack County        Virginia   7771.010962   5170.523752   106.577345   \n",
              "2        Ada County           Idaho  10615.535592   8829.119524    98.364348   \n",
              "3      Adair County            Iowa  10984.427141   8426.028921   361.512792   \n",
              "4      Adair County        Kentucky   8526.730211   6703.273933   253.833402   \n",
              "\n",
              "   Dec2020Deaths  Population    Poverty  PerCapitaIncome  \n",
              "0     100.855253       24788  22.663628     19234.247176  \n",
              "1      82.216809       32840  19.905271     24265.653959  \n",
              "2      81.587251      435117  11.909603     31642.314649  \n",
              "3     236.373749        7192   9.479060     28860.857620  \n",
              "4     233.112308       19304  21.451083     18408.087857  "
            ]
          },
          "metadata": {
            "tags": []
          },
          "execution_count": 264
        }
      ]
    },
    {
      "cell_type": "code",
      "metadata": {
        "colab": {
          "base_uri": "https://localhost:8080/",
          "height": 202
        },
        "id": "fMLKH2ZKbX7F",
        "outputId": "e3d3f750-2088-4649-bd83-22f2560848b7"
      },
      "source": [
        "Oregondata = integrated_df[integrated_df[\"state\"] == \"Oregon\"]\r\n",
        "Oregondata.head()"
      ],
      "execution_count": 281,
      "outputs": [
        {
          "output_type": "execute_result",
          "data": {
            "text/html": [
              "<div>\n",
              "<style scoped>\n",
              "    .dataframe tbody tr th:only-of-type {\n",
              "        vertical-align: middle;\n",
              "    }\n",
              "\n",
              "    .dataframe tbody tr th {\n",
              "        vertical-align: top;\n",
              "    }\n",
              "\n",
              "    .dataframe thead th {\n",
              "        text-align: right;\n",
              "    }\n",
              "</style>\n",
              "<table border=\"1\" class=\"dataframe\">\n",
              "  <thead>\n",
              "    <tr style=\"text-align: right;\">\n",
              "      <th></th>\n",
              "      <th>county</th>\n",
              "      <th>state</th>\n",
              "      <th>TotalCases</th>\n",
              "      <th>Dec2020Cases</th>\n",
              "      <th>TotalDeaths</th>\n",
              "      <th>Dec2020Deaths</th>\n",
              "      <th>Population</th>\n",
              "      <th>Poverty</th>\n",
              "      <th>PerCapitaIncome</th>\n",
              "    </tr>\n",
              "  </thead>\n",
              "  <tbody>\n",
              "    <tr>\n",
              "      <th>109</th>\n",
              "      <td>Baker County</td>\n",
              "      <td>Oregon</td>\n",
              "      <td>3936.170213</td>\n",
              "      <td>2953.692115</td>\n",
              "      <td>43.804756</td>\n",
              "      <td>31.289111</td>\n",
              "      <td>15980</td>\n",
              "      <td>15.083855</td>\n",
              "      <td>25820.273154</td>\n",
              "    </tr>\n",
              "    <tr>\n",
              "      <th>175</th>\n",
              "      <td>Benton County</td>\n",
              "      <td>Oregon</td>\n",
              "      <td>2547.337647</td>\n",
              "      <td>1526.362905</td>\n",
              "      <td>18.130517</td>\n",
              "      <td>12.464730</td>\n",
              "      <td>88249</td>\n",
              "      <td>22.421152</td>\n",
              "      <td>30872.824361</td>\n",
              "    </tr>\n",
              "    <tr>\n",
              "      <th>486</th>\n",
              "      <td>Clackamas County</td>\n",
              "      <td>Oregon</td>\n",
              "      <td>3299.313435</td>\n",
              "      <td>2514.738900</td>\n",
              "      <td>43.004085</td>\n",
              "      <td>28.502708</td>\n",
              "      <td>399962</td>\n",
              "      <td>8.976120</td>\n",
              "      <td>37550.849108</td>\n",
              "    </tr>\n",
              "    <tr>\n",
              "      <th>510</th>\n",
              "      <td>Clatsop County</td>\n",
              "      <td>Oregon</td>\n",
              "      <td>2014.676100</td>\n",
              "      <td>1454.459378</td>\n",
              "      <td>15.780753</td>\n",
              "      <td>7.890376</td>\n",
              "      <td>38021</td>\n",
              "      <td>12.190090</td>\n",
              "      <td>28114.625523</td>\n",
              "    </tr>\n",
              "    <tr>\n",
              "      <th>581</th>\n",
              "      <td>Columbia County</td>\n",
              "      <td>Oregon</td>\n",
              "      <td>2406.038999</td>\n",
              "      <td>1667.098213</td>\n",
              "      <td>41.826837</td>\n",
              "      <td>27.884558</td>\n",
              "      <td>50207</td>\n",
              "      <td>12.315329</td>\n",
              "      <td>28459.688051</td>\n",
              "    </tr>\n",
              "  </tbody>\n",
              "</table>\n",
              "</div>"
            ],
            "text/plain": [
              "               county   state   TotalCases  Dec2020Cases  TotalDeaths  \\\n",
              "109      Baker County  Oregon  3936.170213   2953.692115    43.804756   \n",
              "175     Benton County  Oregon  2547.337647   1526.362905    18.130517   \n",
              "486  Clackamas County  Oregon  3299.313435   2514.738900    43.004085   \n",
              "510    Clatsop County  Oregon  2014.676100   1454.459378    15.780753   \n",
              "581   Columbia County  Oregon  2406.038999   1667.098213    41.826837   \n",
              "\n",
              "     Dec2020Deaths  Population    Poverty  PerCapitaIncome  \n",
              "109      31.289111       15980  15.083855     25820.273154  \n",
              "175      12.464730       88249  22.421152     30872.824361  \n",
              "486      28.502708      399962   8.976120     37550.849108  \n",
              "510       7.890376       38021  12.190090     28114.625523  \n",
              "581      27.884558       50207  12.315329     28459.688051  "
            ]
          },
          "metadata": {
            "tags": []
          },
          "execution_count": 281
        }
      ]
    },
    {
      "cell_type": "code",
      "metadata": {
        "colab": {
          "base_uri": "https://localhost:8080/"
        },
        "id": "3tiOz2IIuQbJ",
        "outputId": "d8256960-7355-4781-e29b-c5dce89e1cab"
      },
      "source": [
        "#Oregon data from the above integrated data of ACS and Covid\r\n",
        "RDataOregon = []\r\n",
        "#COVID total cases vs. % population in poverty\r\n",
        "R1 = Oregondata['TotalCases'].corr(Oregondata['Poverty'])\r\n",
        "print(\"\\na.COVID total cases vs. % population in poverty\")\r\n",
        "print(R1)\r\n",
        "RDataOregon.append(R1)\r\n",
        "\r\n",
        "#COVID total deaths vs. % population in poverty\r\n",
        "R2 = Oregondata['TotalDeaths'].corr(Oregondata['Poverty'])\r\n",
        "print(\"\\nb.COVID total deaths vs. % population in poverty\")\r\n",
        "print(R2)\r\n",
        "RDataOregon.append(R2)\r\n",
        "\r\n",
        "#COVID total cases vs. Per Capita Income level\r\n",
        "R3 = (Oregondata['TotalCases']).corr(Oregondata['PerCapitaIncome'])\r\n",
        "print(\"\\nc.COVID total cases vs. Per Capita Income level\")\r\n",
        "print(R3)\r\n",
        "RDataOregon.append(R3)\r\n",
        "\r\n",
        "#COVID total deaths vs. Per Capita Income level\r\n",
        "R4 = (Oregondata['TotalDeaths']).corr(Oregondata['PerCapitaIncome'])\r\n",
        "print(\"\\nd.COVID total deaths vs. Per Capita Income level\")\r\n",
        "print(R4)\r\n",
        "RDataOregon.append(R4)\r\n",
        "\r\n",
        "#COVID cases during December 2020 vs. % population in poverty\r\n",
        "R5 = (Oregondata['Dec2020Cases']).corr(Oregondata['Poverty'])\r\n",
        "print(\"\\ne.COVID cases during December 2020 vs. % population in poverty\")\r\n",
        "print(R5)\r\n",
        "RDataOregon.append(R5)\r\n",
        "\r\n",
        "#COVID deaths during December 2020 vs. % population in poverty\r\n",
        "R6 = (Oregondata['Dec2020Deaths']).corr(Oregondata['Poverty'])\r\n",
        "print(\"\\nf.COVID deaths during December 2020 vs. % population in poverty\")\r\n",
        "print(R6)\r\n",
        "RDataOregon.append(R6)\r\n",
        "\r\n",
        "#COVID cases during December 2020 vs. Per Capita Income level\r\n",
        "R7 = (Oregondata['Dec2020Cases']).corr(Oregondata['PerCapitaIncome'])\r\n",
        "print(\"\\ng.COVID cases during December 2020 vs. Per Capita Income level\")\r\n",
        "print(R7)\r\n",
        "RDataOregon.append(R7)\r\n",
        "\r\n",
        "#COVID cases during December 2020 vs. Per Capita Income level\r\n",
        "R8 = (Oregondata['Dec2020Cases']).corr(Oregondata['PerCapitaIncome'])\r\n",
        "print(\"\\nh.COVID cases during December 2020 vs. Per Capita Income level\")\r\n",
        "print(R8)\r\n",
        "RDataOregon.append(R8)\r\n",
        "\r\n",
        "scatterplotOregon = []\r\n",
        "for i in RDataOregon:\r\n",
        "  if i > 0.5 or i < -0.5:\r\n",
        "    scatterplotOregon.append(i)\r\n",
        "  else:\r\n",
        "    continue\r\n",
        "print(\"\\n\")\r\n",
        "print(\"Values for R > 0.5 and R < -0.5\")\r\n",
        "print(scatterplotOregon)\r\n",
        "\r\n"
      ],
      "execution_count": 278,
      "outputs": [
        {
          "output_type": "stream",
          "text": [
            "\n",
            "a.COVID total cases vs. % population in poverty\n",
            "0.2293950991410019\n",
            "\n",
            "b.COVID total deaths vs. % population in poverty\n",
            "0.22801173743636727\n",
            "\n",
            "c.COVID total cases vs. Per Capita Income level\n",
            "-0.2135584334770105\n",
            "\n",
            "d.COVID total deaths vs. Per Capita Income level\n",
            "-0.21351513951056433\n",
            "\n",
            "e.COVID cases during December 2020 vs. % population in poverty\n",
            "0.29487677050379707\n",
            "\n",
            "f.COVID deaths during December 2020 vs. % population in poverty\n",
            "0.386047378183474\n",
            "\n",
            "g.COVID cases during December 2020 vs. Per Capita Income level\n",
            "-0.38717063280245867\n",
            "\n",
            "h.COVID cases during December 2020 vs. Per Capita Income level\n",
            "-0.38717063280245867\n",
            "\n",
            "\n",
            "Values for R > 0.5 and R < -0.5\n",
            "[]\n"
          ],
          "name": "stdout"
        }
      ]
    },
    {
      "cell_type": "code",
      "metadata": {
        "colab": {
          "base_uri": "https://localhost:8080/"
        },
        "id": "UbeQY2r5ZPWH",
        "outputId": "6b2488ed-37a7-4c01-e7cf-7f20d2b38213"
      },
      "source": [
        "USAdata = []\r\n",
        "#COVID total cases vs. % population in poverty\r\n",
        "Rdata = integrated_df\r\n",
        "R1 = Rdata['TotalCases'].corr(Rdata['Poverty'])\r\n",
        "print(\"\\na.COVID total cases vs. % population in poverty\")\r\n",
        "print(R1)\r\n",
        "USAdata.append(R1)\r\n",
        "\r\n",
        "#COVID total deaths vs. % population in poverty\r\n",
        "R2 = Rdata['TotalDeaths'].corr(Rdata['Poverty'])\r\n",
        "print(\"\\nb.COVID total deaths vs. % population in poverty\")\r\n",
        "print(R2)\r\n",
        "USAdata.append(R2)\r\n",
        "\r\n",
        "#COVID total cases vs. Per Capita Income level\r\n",
        "R3 = Rdata['TotalCases'].corr(Rdata['PerCapitaIncome'])\r\n",
        "print(\"\\nc.COVID total cases vs. Per Capita Income level\")\r\n",
        "print(R3)\r\n",
        "USAdata.append(R3)\r\n",
        "\r\n",
        "#COVID total cases vs. Per Capita Income level\r\n",
        "R4 = Rdata['TotalCases'].corr(Rdata['PerCapitaIncome'])\r\n",
        "print(\"\\nd.COVID total cases vs. Per Capita Income level\")\r\n",
        "print(R4)\r\n",
        "USAdata.append(R4)\r\n",
        "\r\n",
        "\r\n",
        "#COVID cases during December 2020 vs. % population in poverty\r\n",
        "R5 = Rdata['Dec2020Cases'].corr(Rdata['Poverty'])\r\n",
        "print(\"\\ne.COVID cases during December 2020 vs. % population in poverty\")\r\n",
        "print(R5)\r\n",
        "USAdata.append(R5)\r\n",
        "\r\n",
        "#COVID deaths during December 2020 vs. % population in poverty\r\n",
        "R6 = Rdata['Dec2020Deaths'].corr(Rdata['Poverty'])\r\n",
        "print(\"\\nf.COVID deaths during December 2020 vs. % population in poverty\")\r\n",
        "print(R6)\r\n",
        "USAdata.append(R6)\r\n",
        "\r\n",
        "\r\n",
        "#COVID cases during December 2020 vs. Per Capita Income level\r\n",
        "R7 = (Rdata['Dec2020Cases']).corr(Rdata['PerCapitaIncome'])\r\n",
        "print(\"\\ng.COVID cases during December 2020 vs. Per Capita Income level\")\r\n",
        "print(R7)\r\n",
        "USAdata.append(R7)\r\n",
        "\r\n",
        "#COVID death during December 2020 vs. Per Capita Income level\r\n",
        "R8 = Rdata['Dec2020Deaths'].corr(Rdata['PerCapitaIncome'])\r\n",
        "print(\"\\nh.COVID cases during December 2020 vs. Per Capita Income level\")\r\n",
        "print(R8)\r\n",
        "USAdata.append(R8)\r\n",
        "scatterplot = []\r\n",
        "for i in USAdata:\r\n",
        "  if i > 0.5 or i < -0.5:\r\n",
        "    scatterplot.append(i)\r\n",
        "  else:\r\n",
        "    continue\r\n",
        "print(scatterplot)\r\n"
      ],
      "execution_count": 276,
      "outputs": [
        {
          "output_type": "stream",
          "text": [
            "\n",
            "a.COVID total cases vs. % population in poverty\n",
            "0.03485599441173466\n",
            "\n",
            "b.COVID total deaths vs. % population in poverty\n",
            "0.04087905848836704\n",
            "\n",
            "c.COVID total cases vs. Per Capita Income level\n",
            "-0.03894663142236917\n",
            "\n",
            "d.COVID total cases vs. Per Capita Income level\n",
            "-0.03894663142236917\n",
            "\n",
            "e.COVID cases during December 2020 vs. % population in poverty\n",
            "0.07346823057542182\n",
            "\n",
            "f.COVID deaths during December 2020 vs. % population in poverty\n",
            "0.17928626120301505\n",
            "\n",
            "g.COVID cases during December 2020 vs. Per Capita Income level\n",
            "-0.16655046195992682\n",
            "\n",
            "h.COVID cases during December 2020 vs. Per Capita Income level\n",
            "-0.1856017909643021\n",
            "[]\n"
          ],
          "name": "stdout"
        }
      ]
    }
  ]
}