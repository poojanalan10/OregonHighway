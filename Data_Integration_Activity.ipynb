{
  "nbformat": 4,
  "nbformat_minor": 0,
  "metadata": {
    "colab": {
      "name": "Data Integration Activity.ipynb",
      "provenance": [],
      "collapsed_sections": [],
      "authorship_tag": "ABX9TyNSSwae1i2KUm9UKEBIa1HA",
      "include_colab_link": true
    },
    "kernelspec": {
      "name": "python3",
      "display_name": "Python 3"
    }
  },
  "cells": [
    {
      "cell_type": "markdown",
      "metadata": {
        "id": "view-in-github",
        "colab_type": "text"
      },
      "source": [
        "<a href=\"https://colab.research.google.com/github/poojanalan10/OregonHighway/blob/master/Data_Integration_Activity.ipynb\" target=\"_parent\"><img src=\"https://colab.research.google.com/assets/colab-badge.svg\" alt=\"Open In Colab\"/></a>"
      ]
    },
    {
      "cell_type": "code",
      "metadata": {
        "id": "E7KOY26CNnwd"
      },
      "source": [
        "import pandas as pd\r\n",
        "import datetime\r\n",
        "\r\n",
        "ACSdata = pd.read_csv('/content/acs2017_census_tract_data.csv.zip')\r\n",
        "CovidData = pd.read_csv('/content/COVID_county_data 2.csv.zip')\r\n",
        "\r\n",
        "# ACSdata.head(10)\r\n",
        "# CovidData.head(10)"
      ],
      "execution_count": null,
      "outputs": []
    },
    {
      "cell_type": "markdown",
      "metadata": {
        "id": "5dYUVQF0eJ6X"
      },
      "source": [
        "A. Aggregate Census Data to County Level\r\n",
        "Your integration will use two different dimensions: location (as indicated by state and county) and time. You should greatly simplify your processing and reduce your time by pre-processing your data along each of these dimensions.\r\n",
        "\r\n",
        "The ACS data is separated into “Census Tracts” which are regions within counties that correspond to groups of approximately 4000 people. The Census Bureau defines these to help organize the actual job of collecting census data, but this grouping can make your Data Engineering job more more challenging. This level of detail is not needed for your county-level analysis, and you can greatly decrease your efforts by aggregating per-tract data to the county level.  \r\n",
        "\r\n",
        "Create a python program that produces a one-row-per-county version of the ACS data set. To do this you will need to think about how to properly aggregate Census Tract-level data into County-level summaries. \r\n",
        "\r\n",
        "In this step you can also eliminate unneeded columns from the ACS data. \r\n",
        "\r\n",
        "Question: Show your aggregated county-level data rows for the following counties: Loudon County Virginia, Washington County Oregon, Harlan County Kentucky, Malheur County Oregon\r\n",
        "\r\n"
      ]
    },
    {
      "cell_type": "code",
      "metadata": {
        "colab": {
          "base_uri": "https://localhost:8080/"
        },
        "id": "NzeeRiNVQJVz",
        "outputId": "9021506a-0df6-483b-822d-01ed4438b4ad"
      },
      "source": [
        "#integratedData = pd.concat([ACSdata,CovidData], axis = 1)\r\n",
        "\r\n",
        "#storing the county and it's corresponding state data and concatenating all the county,state pair\r\n",
        "countyLoudounData = ACSdata[(ACSdata['County'] == 'Loudoun County') & (ACSdata['State'] == 'Virginia')]\r\n",
        "countyHarlanData = ACSdata[(ACSdata['County'] == 'Washington County') & (ACSdata['State'] == 'Oregon')]\r\n",
        "countyWashingtonData = ACSdata[(ACSdata['County'] == 'Harlan County') & (ACSdata['State'] == 'Kentucky')]\r\n",
        "countyMalheurData = ACSdata[(ACSdata['County'] == 'Malheur County') & (ACSdata['State'] == 'Oregon')]\r\n",
        "countyData = pd.concat([countyLoudounData,countyHarlanData,countyWashingtonData,countyMalheurData])\r\n",
        "#countyData = countyData.groupby([\"County\",\"State\"]).sum()\r\n",
        "countyData['County'] = countyData['County'].map(lambda x: x.rstrip('County'))\r\n",
        "countyData['Poverty'] = (countyData['Poverty']/100) * countyData['TotalPop']\r\n",
        "countyData['IncomePerCap'] = (countyData['IncomePerCap']) * countyData['TotalPop']\r\n",
        "countyData = countyData[['County','State','TotalPop','Poverty','IncomePerCap']]\r\n",
        "\r\n",
        "#print(countyData)\r\n",
        "#countyData = countyData.groupby([\"County\",\"State\"]).sum()\r\n",
        "#countyData = countyData.groupby([\"County\",\"State\"], as_index=False).agg(\"sum\")\r\n",
        "countyData = countyData.dropna()\r\n",
        "countyData = countyData.groupby([\"County\",\"State\"], as_index=False).agg(\r\n",
        "     Population  = pd.NamedAgg(column=\"TotalPop\", aggfunc = \"sum\"),\r\n",
        "     Poverty  =  pd.NamedAgg(column=\"Poverty\", aggfunc = \"sum\"),\r\n",
        "     PerCapitaIncome =  pd.NamedAgg(column=\"IncomePerCap\", aggfunc = \"sum\")\r\n",
        "      )\r\n",
        "countyData[\"Poverty\"] = (countyData['Poverty']*100)/countyData['Population']\r\n",
        "countyData[\"PerCapitaIncome\"] = (countyData['PerCapitaIncome'])/countyData['Population']\r\n",
        "print(countyData)\r\n"
      ],
      "execution_count": null,
      "outputs": [
        {
          "output_type": "stream",
          "text": [
            "        County     State  Population    Poverty  PerCapitaIncome\n",
            "0      Harlan   Kentucky       27548  35.669482     15456.971032\n",
            "1     Loudoun   Virginia      374558   3.689598     50455.645745\n",
            "2     Malheur     Oregon       30421  24.298225     17567.504323\n",
            "3  Washington     Oregon      572071  10.321202     35369.047499\n"
          ],
          "name": "stdout"
        }
      ]
    },
    {
      "cell_type": "markdown",
      "metadata": {
        "id": "CDY1xemufEz5"
      },
      "source": [
        ""
      ]
    },
    {
      "cell_type": "markdown",
      "metadata": {
        "id": "8HgZcqiCe9Op"
      },
      "source": [
        "B. Simplify the COVID Data\r\n",
        "You can simplify the COVID data along the time dimension. The COVID data set contains day-level resolution data from (approximately) March of 2020 through February of 2021. However, you will only need four data points per county: total cases, total deaths, cases reported during December of 2020 and deaths reported during December 2020. \r\n",
        "\r\n",
        "Create a python program that reduces the COVID data to one line per county. \r\n",
        "\r\n",
        "Question: Show your simplified COVID data for the counties listed above. \r\n"
      ]
    },
    {
      "cell_type": "code",
      "metadata": {
        "id": "Ie5VnM5Zb3Em",
        "colab": {
          "base_uri": "https://localhost:8080/"
        },
        "outputId": "af584771-02b7-47ab-d04d-47afdd54f7c2"
      },
      "source": [
        "#December2020\r\n",
        "start_date = \"01122020\"\r\n",
        "end_date = \"31122020\"\r\n",
        "format_str = '%d%m%Y' # The format The date - 29 Dec 2017 is 29122017\r\n",
        "datetime_obj_start_date = datetime.datetime.strptime(start_date, format_str)\r\n",
        "datetime_obj_end_date = datetime.datetime.strptime(end_date, format_str)\r\n",
        "# print(datetime_obj_start_date.date())\r\n",
        "# print(datetime_obj_end_date.date())\r\n",
        "dateDecemberData = []\r\n",
        "format_str_frame = '%y-%m-%d'\r\n",
        "#filtering data to accomodate the data for the month of December, 2020\r\n",
        "after_start_date = CovidData[\"date\"] >= \"2020-12-01\"\r\n",
        "before_end_date = CovidData[\"date\"] <= \"2020-12-31\"\r\n",
        "between_two_dates = after_start_date & before_end_date\r\n",
        "covidDataDecember = CovidData.loc[between_two_dates]\r\n",
        "\r\n",
        "#dropping date to aggregate data accroding to county \r\n",
        "covidDataDecember = covidDataDecember.drop([\"date\"],axis = 1)\r\n",
        "\r\n",
        "#filtering by the counties mentioned above for the month of December\r\n",
        "countyLoudounDecemberData = covidDataDecember[(covidDataDecember['county'] == 'Loudoun') & (covidDataDecember['state'] == 'Virginia')]\r\n",
        "countyHarlanDecemberData = covidDataDecember[(covidDataDecember['county'] == 'Washington') & (covidDataDecember['state'] == 'Oregon')]\r\n",
        "countyWashingtonDecemberData = covidDataDecember[(covidDataDecember['county'] == 'Harlan') & (covidDataDecember['state'] == 'Kentucky')]\r\n",
        "countyMalheurDecemberData = covidDataDecember[(covidDataDecember['county'] == 'Malheur') & (covidDataDecember['state'] == 'Oregon')]\r\n",
        "countyDatacovidDataDecember = pd.concat([countyLoudounDecemberData,countyHarlanDecemberData,countyWashingtonDecemberData,countyMalheurDecemberData])\r\n",
        "\r\n",
        "#filtering by the counties mentioned above for till date\r\n",
        "countyLoudounData = CovidData[(CovidData['county'] == 'Loudoun') & (CovidData['state'] == 'Virginia')]\r\n",
        "countyHarlanData = CovidData[(CovidData['county'] == 'Washington') & (CovidData['state'] == 'Oregon')]\r\n",
        "countyWashingtonData = CovidData[(CovidData['county'] == 'Harlan') & (CovidData['state'] == 'Kentucky')]\r\n",
        "countyMalheurData = CovidData[(CovidData['county'] == 'Malheur') & (CovidData['state'] == 'Oregon')]\r\n",
        "countyDatacovidDatatillDate = pd.concat([countyLoudounData,countyHarlanData,countyWashingtonData,countyMalheurData])\r\n",
        "\r\n",
        "#grouping by county and state and calculating the total number of covid cases and deaths recorded till date\r\n",
        "covidReporttoDate = countyDatacovidDatatillDate.groupby([\"county\",\"state\"], as_index=False).agg(\r\n",
        "    TotalCases   = pd.NamedAgg(column=\"cases\",aggfunc = \"sum\"),\r\n",
        "    TotalDeaths  = pd.NamedAgg(column=\"deaths\",aggfunc = \"sum\")\r\n",
        "    )\r\n",
        "\r\n",
        "#grouping by county and state and getting the sum of deaths and no of covid cases in the month of December 2020\r\n",
        "#per county\r\n",
        "#using @as_index=False allows the columns to be retained as an index\r\n",
        "covidReport = countyDatacovidDataDecember.groupby([\"county\",\"state\"], as_index=False).agg(\r\n",
        "    Dec2020Cases = pd.NamedAgg(column=\"cases\", aggfunc = \"sum\"),\r\n",
        "    Dec2020Deaths = pd.NamedAgg(column=\"deaths\",aggfunc = \"sum\")\r\n",
        "    )\r\n",
        "#A different approach to group by for a single column\r\n",
        "# covidReport = covidDataDecember.groupby([\"county\",\"state\"])[\"cases\"].sum().to_frame(\"cases\").reset_index()\r\n",
        "covidReport[\"TotalDeaths\"] = covidReporttoDate[\"TotalDeaths\"]\r\n",
        "covidReport[\"TotalCases\"] = covidReporttoDate[\"TotalCases\"]\r\n",
        "covidReport = covidReport[['county','state','TotalCases','Dec2020Cases','TotalDeaths','Dec2020Deaths']]\r\n",
        "print(covidReport)"
      ],
      "execution_count": null,
      "outputs": [
        {
          "output_type": "stream",
          "text": [
            "       county     state  TotalCases  Dec2020Cases  TotalDeaths  Dec2020Deaths\n",
            "0      Harlan  Kentucky      205984         38959       3994.0          506.0\n",
            "1     Loudoun  Virginia     2496450        376223      35820.0         4729.0\n",
            "2     Malheur    Oregon      453634         82916       7770.0         1465.0\n",
            "3  Washington    Oregon     2157339        424620      22455.0         3860.0\n"
          ],
          "name": "stdout"
        }
      ]
    },
    {
      "cell_type": "markdown",
      "metadata": {
        "id": "Dacdwo7Tffev"
      },
      "source": [
        "C. Integrate COVID Data with ACS Data\r\n",
        "Create a single pandas DataFrame containing one row per county and using the columns described above. You are free to add additional columns if needed. For example, you might want to normalize all of the COVID data by the population of each county so that you have a consistent “number of cases/deaths per 100000 residents” value for each county.\r\n",
        "\r\n",
        "Question: List your integrated data for all counties in the State of Oregon.\r\n",
        "\r\n"
      ]
    },
    {
      "cell_type": "code",
      "metadata": {
        "colab": {
          "base_uri": "https://localhost:8080/"
        },
        "id": "egFxAh6jfi6C",
        "outputId": "9df39b3a-d3f4-41cd-96e4-7789048007ff"
      },
      "source": [
        "covidReportfiltered = covidReport[['TotalCases','Dec2020Cases','TotalDeaths','Dec2020Deaths']]\r\n",
        "integratedData = pd.concat([countyData,covidReportfiltered], axis=1)\r\n",
        "integratedData['cases per 100,000 res'] = (integratedData['TotalCases']*100000)/integratedData['Population']\r\n",
        "integratedData['death per 100,000 res'] = (integratedData['TotalDeaths']*100000)/integratedData['Population']\r\n",
        "\r\n",
        "print(integratedData)"
      ],
      "execution_count": null,
      "outputs": [
        {
          "output_type": "stream",
          "text": [
            "        County     State  Population    Poverty  PerCapitaIncome  TotalCases  \\\n",
            "0      Harlan   Kentucky       27548  35.669482     15456.971032      205984   \n",
            "1     Loudoun   Virginia      374558   3.689598     50455.645745     2496450   \n",
            "2     Malheur     Oregon       30421  24.298225     17567.504323      453634   \n",
            "3  Washington     Oregon      572071  10.321202     35369.047499     2157339   \n",
            "\n",
            "   Dec2020Cases  TotalDeaths  Dec2020Deaths  cases per 100,000 res  \\\n",
            "0         38959       3994.0          506.0           7.477276e+05   \n",
            "1        376223      35820.0         4729.0           6.665056e+05   \n",
            "2         82916       7770.0         1465.0           1.491187e+06   \n",
            "3        424620      22455.0         3860.0           3.771104e+05   \n",
            "\n",
            "   death per 100,000 res  \n",
            "0           14498.330187  \n",
            "1            9563.271910  \n",
            "2           25541.566681  \n",
            "3            3925.212080  \n"
          ],
          "name": "stdout"
        }
      ]
    },
    {
      "cell_type": "markdown",
      "metadata": {
        "id": "YlhDREzSKc0N"
      },
      "source": [
        ""
      ]
    },
    {
      "cell_type": "markdown",
      "metadata": {
        "id": "Dk71KyaYNnlx"
      },
      "source": [
        ""
      ]
    },
    {
      "cell_type": "markdown",
      "metadata": {
        "id": "0JNGxeC7Nosn"
      },
      "source": [
        "D. Analysis\r\n",
        "For each of the following, determine the strength of the correlation between each pair of variables. Compute the correlation strength by calculating the Pearson correlation coefficient R for pairs of columns in your DataFrame. For example, if you have a DataFrame df with each row representing a distinct county, and columns named ‘TotalCases’ and ‘Poverty’, then you can compute R like this:\r\n",
        "\r\n",
        "R = df[‘TotalCases’].corr(df[‘Poverty’])\r\n",
        "\r\n",
        "For any R that is > 0.5 or < -0.5 also display a scatter plot (see pandas scatterplot and seaborn documentation for information about how to display scatter plots from DataFrame data).\r\n",
        "\r\n",
        "The COVID numbers should be normalized to population (# of cases per 100,000 residents) so that different sized counties are comparable. So for example, “COVID total cases” below really means “((COVID total cases in county * 100000) / population of county)”."
      ]
    },
    {
      "cell_type": "code",
      "metadata": {
        "colab": {
          "base_uri": "https://localhost:8080/",
          "height": 219
        },
        "id": "9l7xKsK77ZgY",
        "outputId": "3b19fdab-7ddc-424c-ee5a-4f4c4fe7b6be"
      },
      "source": [
        "\r\n",
        "#All counties across USA\r\n",
        "#ACSdata['County'] = ACSdata['County'].map(lambda x: x.rstrip(' County'))\r\n",
        "ACSdata['Poverty'] = (ACSdata['Poverty']/100) * ACSdata['TotalPop']\r\n",
        "ACSdata['IncomePerCap'] = (ACSdata['IncomePerCap']) * ACSdata['TotalPop']\r\n",
        "ACSdata = ACSdata[['County','State','TotalPop','Poverty','IncomePerCap']]\r\n",
        "ACSdata = ACSdata.dropna()\r\n",
        "ACSdata = ACSdata.groupby([\"County\",\"State\"], as_index=False).agg(\r\n",
        "     Population  = pd.NamedAgg(column=\"TotalPop\", aggfunc = \"sum\"),\r\n",
        "     Poverty  =  pd.NamedAgg(column=\"Poverty\", aggfunc = \"sum\"),\r\n",
        "     PerCapitaIncome =  pd.NamedAgg(column=\"IncomePerCap\", aggfunc = \"sum\")\r\n",
        "      )\r\n",
        "ACSdata[\"Poverty\"] = (ACSdata['Poverty']*100)/ACSdata['Population']\r\n",
        "ACSdata[\"PerCapitaIncome\"] = (ACSdata['PerCapitaIncome'])/ACSdata['Population']\r\n",
        "ACSdata = ACSdata.rename(columns={'State':'state','County':'county'})\r\n",
        "print(len(ACSdata))\r\n",
        "ACSdata.head(5)"
      ],
      "execution_count": null,
      "outputs": [
        {
          "output_type": "stream",
          "text": [
            "3220\n"
          ],
          "name": "stdout"
        },
        {
          "output_type": "execute_result",
          "data": {
            "text/html": [
              "<div>\n",
              "<style scoped>\n",
              "    .dataframe tbody tr th:only-of-type {\n",
              "        vertical-align: middle;\n",
              "    }\n",
              "\n",
              "    .dataframe tbody tr th {\n",
              "        vertical-align: top;\n",
              "    }\n",
              "\n",
              "    .dataframe thead th {\n",
              "        text-align: right;\n",
              "    }\n",
              "</style>\n",
              "<table border=\"1\" class=\"dataframe\">\n",
              "  <thead>\n",
              "    <tr style=\"text-align: right;\">\n",
              "      <th></th>\n",
              "      <th>county</th>\n",
              "      <th>state</th>\n",
              "      <th>Population</th>\n",
              "      <th>Poverty</th>\n",
              "      <th>PerCapitaIncome</th>\n",
              "    </tr>\n",
              "  </thead>\n",
              "  <tbody>\n",
              "    <tr>\n",
              "      <th>0</th>\n",
              "      <td>Abbeville County</td>\n",
              "      <td>South Carolina</td>\n",
              "      <td>24788</td>\n",
              "      <td>22.663628</td>\n",
              "      <td>19234.247176</td>\n",
              "    </tr>\n",
              "    <tr>\n",
              "      <th>1</th>\n",
              "      <td>Acadia Parish</td>\n",
              "      <td>Louisiana</td>\n",
              "      <td>62607</td>\n",
              "      <td>21.630767</td>\n",
              "      <td>21590.908876</td>\n",
              "    </tr>\n",
              "    <tr>\n",
              "      <th>2</th>\n",
              "      <td>Accomack County</td>\n",
              "      <td>Virginia</td>\n",
              "      <td>32840</td>\n",
              "      <td>19.905271</td>\n",
              "      <td>24265.653959</td>\n",
              "    </tr>\n",
              "    <tr>\n",
              "      <th>3</th>\n",
              "      <td>Ada County</td>\n",
              "      <td>Idaho</td>\n",
              "      <td>435117</td>\n",
              "      <td>11.909603</td>\n",
              "      <td>31642.314649</td>\n",
              "    </tr>\n",
              "    <tr>\n",
              "      <th>4</th>\n",
              "      <td>Adair County</td>\n",
              "      <td>Iowa</td>\n",
              "      <td>7192</td>\n",
              "      <td>9.479060</td>\n",
              "      <td>28860.857620</td>\n",
              "    </tr>\n",
              "  </tbody>\n",
              "</table>\n",
              "</div>"
            ],
            "text/plain": [
              "             county           state  Population    Poverty  PerCapitaIncome\n",
              "0  Abbeville County  South Carolina       24788  22.663628     19234.247176\n",
              "1     Acadia Parish       Louisiana       62607  21.630767     21590.908876\n",
              "2   Accomack County        Virginia       32840  19.905271     24265.653959\n",
              "3        Ada County           Idaho      435117  11.909603     31642.314649\n",
              "4      Adair County            Iowa        7192   9.479060     28860.857620"
            ]
          },
          "metadata": {
            "tags": []
          },
          "execution_count": 180
        }
      ]
    },
    {
      "cell_type": "code",
      "metadata": {
        "colab": {
          "base_uri": "https://localhost:8080/"
        },
        "id": "bi6kVdxG8eqY",
        "outputId": "4a09cec0-404e-41b9-bc92-5d11d5faaed5"
      },
      "source": [
        "#All counties across USA COVID Data\r\n",
        "\r\n",
        "#grouping by county and state and calculating the total number of covid cases and deaths recorded till date\r\n",
        "covidReporttoDateAllCounties = CovidData.groupby([\"county\",\"state\"], as_index=False).agg(\r\n",
        "    TotalCases   = pd.NamedAgg(column=\"cases\",aggfunc = \"sum\"),\r\n",
        "    TotalDeaths  = pd.NamedAgg(column=\"deaths\",aggfunc = \"sum\")\r\n",
        "    )\r\n",
        "#grouping by county and state and getting the sum of deaths and no of covid cases in the month of December 2020\r\n",
        "#per county\r\n",
        "#using @as_index=False allows the columns to be retained as an index\r\n",
        "covidReportAllCounties = covidDataDecember.groupby([\"county\",\"state\"], as_index=False).agg(\r\n",
        "    Dec2020Cases = pd.NamedAgg(column=\"cases\", aggfunc = \"sum\"),\r\n",
        "    Dec2020Deaths = pd.NamedAgg(column=\"deaths\",aggfunc = \"sum\")\r\n",
        "    )\r\n",
        "covidReportAllCounties[\"TotalDeaths\"] = covidReporttoDateAllCounties[\"TotalDeaths\"]\r\n",
        "covidReportAllCounties[\"TotalCases\"] = covidReporttoDateAllCounties[\"TotalCases\"]\r\n",
        "covidReportAllCounties['county'] = covidReportAllCounties['county'].astype(str) + ' County'\r\n",
        "\r\n",
        "\r\n",
        "covidReportAllCounties = covidReportAllCounties[['county','state','TotalCases','Dec2020Cases','TotalDeaths','Dec2020Deaths']]\r\n",
        "#covidReportAllCounties = covidReportAllCounties.drop(columns=['county','state'])\r\n",
        "covidReportAllCounties.head(5)\r\n",
        "print(len(covidReportAllCounties))"
      ],
      "execution_count": null,
      "outputs": [
        {
          "output_type": "stream",
          "text": [
            "3247\n"
          ],
          "name": "stdout"
        }
      ]
    },
    {
      "cell_type": "code",
      "metadata": {
        "colab": {
          "base_uri": "https://localhost:8080/"
        },
        "id": "VNK2sUODDr4f",
        "outputId": "40f6fbd7-410b-4146-eb95-37d516cfe97c"
      },
      "source": [
        "#Integrated Data for USA\r\n",
        "pd.options.display.max_columns = None\r\n",
        "pd.options.display.max_rows = None\r\n",
        "\r\n",
        "integrated_df=covidReportAllCounties.merge(ACSdata, on=['county','state'], how='inner')\r\n",
        "integrated_df['TotalCases'] = (integrated_df['TotalCases']*100000)/integrated_df['Population']\r\n",
        "integrated_df['TotalDeaths'] = (integrated_df['TotalDeaths']*100000)/integrated_df['Population']\r\n",
        "integrated_df.head(24)\r\n",
        "print(len(integrated_df))\r\n",
        "# integrated_df.to_csv('data.csv',index=False)\r\n",
        "# from google.colab import files\r\n",
        "# files.download(\"data.csv\")\r\n",
        "\r\n",
        "#integratedDataAllCounties.head()"
      ],
      "execution_count": null,
      "outputs": [
        {
          "output_type": "stream",
          "text": [
            "3002\n"
          ],
          "name": "stdout"
        }
      ]
    },
    {
      "cell_type": "code",
      "metadata": {
        "colab": {
          "base_uri": "https://localhost:8080/"
        },
        "id": "3tiOz2IIuQbJ",
        "outputId": "72a2a692-3c9c-4b10-bce4-5dfe44bff916"
      },
      "source": [
        "#Oregon data from the above integrated data of ACS and Covid\r\n",
        "OregonRData = []\r\n",
        "Oregondata = integrated_df[(integrated_df['state'] == 'Oregon')]\r\n",
        "#print(Oregondata)\r\n",
        "#COVID total cases vs. % population in poverty\r\n",
        "R1 = (integrated_df['TotalCases']*integrated_df['Population']/100000).corr(Oregondata['Poverty'])\r\n",
        "print(\"COVID total cases vs. % population in poverty\")\r\n",
        "print(R1)\r\n",
        "OregonRData.append(R1)\r\n",
        "\r\n",
        "#COVID total deaths vs. % population in poverty\r\n",
        "R2 = Oregondata['TotalDeaths'].corr(Oregondata['Poverty'])\r\n",
        "print(\"COVID total deaths vs. % population in poverty\")\r\n",
        "print(R2)\r\n",
        "OregonRData.append(R2)\r\n",
        "\r\n",
        "#COVID total cases vs. Per Capita Income level\r\n",
        "R3 = Oregondata['TotalCases'].corr(Oregondata['PerCapitaIncome'])\r\n",
        "print(\"COVID total cases vs. Per Capita Income level\")\r\n",
        "print(R3)\r\n",
        "OregonRData.append(R3)\r\n",
        "\r\n",
        "#COVID total deaths vs. Per Capita Income level\r\n",
        "R4 = Oregondata['TotalDeaths'].corr(Oregondata['PerCapitaIncome'])\r\n",
        "print(\"COVID total deaths vs. Per Capita Income level\")\r\n",
        "print(R4)\r\n",
        "OregonRData.append(R4)\r\n",
        "\r\n",
        "#COVID cases during December 2020 vs. % population in poverty\r\n",
        "R5 = Oregondata['Dec2020Cases'].corr(Oregondata['Poverty'])\r\n",
        "print(\"COVID cases during December 2020 vs. % population in poverty\")\r\n",
        "print(R5)\r\n",
        "OregonRData.append(R5)\r\n",
        "\r\n",
        "#COVID deaths during December 2020 vs. % population in poverty\r\n",
        "R6 = Oregondata['Dec2020Deaths'].corr(Oregondata['Poverty'])\r\n",
        "print(\"COVID deaths during December 2020 vs. % population in poverty\")\r\n",
        "print(R6)\r\n",
        "OregonRData.append(R6)\r\n",
        "\r\n",
        "#COVID cases during December 2020 vs. Per Capita Income level\r\n",
        "R7 = Oregondata['Dec2020Cases'].corr(Oregondata['PerCapitaIncome'])\r\n",
        "print(\"COVID cases during December 2020 vs. Per Capita Income level\")\r\n",
        "print(R7)\r\n",
        "OregonRData.append(R7)\r\n",
        "\r\n",
        "#COVID cases during December 2020 vs. Per Capita Income level\r\n",
        "R8 = Oregondata['Dec2020Cases'].corr(Oregondata['PerCapitaIncome'])\r\n",
        "print(\"COVID cases during December 2020 vs. Per Capita Income level\")\r\n",
        "print(R8)\r\n",
        "OregonRData.append(R8)\r\n",
        "\r\n",
        "scatterplotOregon = []\r\n",
        "for i in OregonRData:\r\n",
        "  if i > 0.5 or i < -0.5:\r\n",
        "    scatterplotOregon.append(i)\r\n",
        "  else:\r\n",
        "    continue\r\n",
        "print(\"\\n\")\r\n",
        "print(\"Values for R > 0.5 and R < -0.5\")\r\n",
        "print(scatterplotOregon)"
      ],
      "execution_count": 188,
      "outputs": [
        {
          "output_type": "stream",
          "text": [
            "COVID total cases vs. % population in poverty\n",
            "0.13261137654883792\n",
            "COVID total deaths vs. % population in poverty\n",
            "0.22764516297789933\n",
            "COVID total cases vs. Per Capita Income level\n",
            "-0.2138708996683881\n",
            "COVID total deaths vs. Per Capita Income level\n",
            "-0.2133987690816204\n",
            "COVID cases during December 2020 vs. % population in poverty\n",
            "-0.12697653077057275\n",
            "COVID deaths during December 2020 vs. % population in poverty\n",
            "-0.05209750521269302\n",
            "COVID cases during December 2020 vs. Per Capita Income level\n",
            "0.4987416981559195\n",
            "COVID cases during December 2020 vs. Per Capita Income level\n",
            "0.4987416981559195\n",
            "\n",
            "\n",
            "Values for R > 0.5 and R < -0.5\n",
            "[]\n"
          ],
          "name": "stdout"
        }
      ]
    },
    {
      "cell_type": "code",
      "metadata": {
        "colab": {
          "base_uri": "https://localhost:8080/"
        },
        "id": "UbeQY2r5ZPWH",
        "outputId": "ad26e293-c8b5-422b-b29c-a4c94457dc9f"
      },
      "source": [
        "USAdata = []\r\n",
        "#COVID total cases vs. % population in poverty\r\n",
        "Rdata = integrated_df\r\n",
        "R1 = Rdata['TotalCases'].corr(Rdata['Poverty'])\r\n",
        "print(\"COVID total cases vs. % population in poverty\")\r\n",
        "print(R1)\r\n",
        "USAdata.append(R1)\r\n",
        "\r\n",
        "#COVID total deaths vs. % population in poverty\r\n",
        "R2 = Rdata['TotalDeaths'].corr(Rdata['Poverty'])\r\n",
        "print(\"COVID total deaths vs. % population in poverty\")\r\n",
        "print(R2)\r\n",
        "USAdata.append(R2)\r\n",
        "\r\n",
        "#COVID total cases vs. Per Capita Income level\r\n",
        "R3 = Rdata['TotalCases'].corr(Rdata['PerCapitaIncome'])\r\n",
        "print(\"COVID total cases vs. Per Capita Income level\")\r\n",
        "print(R3)\r\n",
        "USAdata.append(R3)\r\n",
        "\r\n",
        "#COVID total cases vs. Per Capita Income level\r\n",
        "R4 = Rdata['TotalCases'].corr(Rdata['PerCapitaIncome'])\r\n",
        "print(\"COVID total cases vs. Per Capita Income level\")\r\n",
        "print(R4)\r\n",
        "USAdata.append(R4)\r\n",
        "\r\n",
        "\r\n",
        "#COVID cases during December 2020 vs. % population in poverty\r\n",
        "R5 = Rdata['Dec2020Cases'].corr(Rdata['Poverty'])\r\n",
        "print(\"COVID cases during December 2020 vs. % population in poverty\")\r\n",
        "print(R5)\r\n",
        "USAdata.append(R5)\r\n",
        "\r\n",
        "#COVID deaths during December 2020 vs. % population in poverty\r\n",
        "R6 = Rdata['Dec2020Deaths'].corr(Rdata['Poverty'])\r\n",
        "print(\"COVID deaths during December 2020 vs. % population in poverty\")\r\n",
        "print(R6)\r\n",
        "USAdata.append(R6)\r\n",
        "\r\n",
        "\r\n",
        "#COVID cases during December 2020 vs. Per Capita Income level\r\n",
        "R7 = Rdata['Dec2020Cases'].corr(Rdata['PerCapitaIncome'])\r\n",
        "print(\"COVID cases during December 2020 vs. Per Capita Income level\")\r\n",
        "print(R7)\r\n",
        "USAdata.append(R7)\r\n",
        "\r\n",
        "#COVID cases during December 2020 vs. Per Capita Income level\r\n",
        "R8 = Rdata['Dec2020Cases'].corr(Rdata['PerCapitaIncome'])\r\n",
        "print(\"COVID cases during December 2020 vs. Per Capita Income level\")\r\n",
        "print(R8)\r\n",
        "USAdata.append(R8)\r\n",
        "scatterplot = []\r\n",
        "for i in USAdata:\r\n",
        "  if i > 0.5 or i < -0.5:\r\n",
        "    scatterplot.append(i)\r\n",
        "  else:\r\n",
        "    continue\r\n",
        "print(scatterplot)"
      ],
      "execution_count": null,
      "outputs": [
        {
          "output_type": "stream",
          "text": [
            "COVID total cases vs. % population in poverty\n",
            "0.04448916883406087\n",
            "COVID total deaths vs. % population in poverty\n",
            "0.04853160202534685\n",
            "COVID total cases vs. Per Capita Income level\n",
            "-0.04223603772234713\n",
            "COVID total cases vs. Per Capita Income level\n",
            "-0.04223603772234713\n",
            "COVID cases during December 2020 vs. % population in poverty\n",
            "-0.042347451293587475\n",
            "COVID deaths during December 2020 vs. % population in poverty\n",
            "-0.036302919618043814\n",
            "COVID cases during December 2020 vs. Per Capita Income level\n",
            "0.1941025203064431\n",
            "COVID cases during December 2020 vs. Per Capita Income level\n",
            "0.1941025203064431\n",
            "[]\n"
          ],
          "name": "stdout"
        }
      ]
    }
  ]
}